{
  "nbformat": 4,
  "nbformat_minor": 0,
  "metadata": {
    "colab": {
      "provenance": [],
      "authorship_tag": "ABX9TyNfsNzTuVK+8hKlHt3t7P6z",
      "include_colab_link": true
    },
    "kernelspec": {
      "name": "python3",
      "display_name": "Python 3"
    },
    "language_info": {
      "name": "python"
    }
  },
  "cells": [
    {
      "cell_type": "markdown",
      "metadata": {
        "id": "view-in-github",
        "colab_type": "text"
      },
      "source": [
        "<a href=\"https://colab.research.google.com/github/MisbahAbidali/-Assignment-02/blob/main/List_methods.ipynb\" target=\"_parent\"><img src=\"https://colab.research.google.com/assets/colab-badge.svg\" alt=\"Open In Colab\"/></a>"
      ]
    },
    {
      "cell_type": "code",
      "execution_count": null,
      "metadata": {
        "id": "enN6pTMgMXga"
      },
      "outputs": [],
      "source": []
    },
    {
      "cell_type": "code",
      "source": [
        "''' list.append() method '''\n",
        "\n",
        "for_pre = [12, 42, 52, 13,]\n",
        "for_pre.append(57)\n",
        "print(type(for_pre),\"for_pre =\",for_pre)\n",
        "\n"
      ],
      "metadata": {
        "colab": {
          "base_uri": "https://localhost:8080/"
        },
        "id": "H02BiwqcMhea",
        "outputId": "b57ed84a-a69d-4731-97f2-b309fa3f1c0e"
      },
      "execution_count": 2,
      "outputs": [
        {
          "output_type": "stream",
          "name": "stdout",
          "text": [
            "<class 'list'> for_pre = [12, 42, 52, 13, 57]\n"
          ]
        }
      ]
    },
    {
      "cell_type": "code",
      "source": [
        "''' list.sort() method '''\n",
        "\n",
        "num_names = [12, 34, 54, 61, 89]\n",
        "num_names.sort()\n",
        "print(len(num_names))\n",
        "print(type(num_names))\n",
        "print(num_names)"
      ],
      "metadata": {
        "colab": {
          "base_uri": "https://localhost:8080/"
        },
        "id": "mDGXj0qAODgY",
        "outputId": "f721bcbd-d3d1-4d76-dfbf-55223324a600"
      },
      "execution_count": 9,
      "outputs": [
        {
          "output_type": "stream",
          "name": "stdout",
          "text": [
            "5\n",
            "<class 'list'>\n",
            "[12, 34, 54, 61, 89]\n"
          ]
        }
      ]
    },
    {
      "cell_type": "code",
      "source": [
        "''' list.sort(reverse = True)'''\n",
        "\n",
        "num_names.sort(reverse=True)\n",
        "print(num_names)"
      ],
      "metadata": {
        "colab": {
          "base_uri": "https://localhost:8080/"
        },
        "id": "fKtfRUwHQi_3",
        "outputId": "9ebc3aad-439a-42d9-8655-4f8486d61ec8"
      },
      "execution_count": 10,
      "outputs": [
        {
          "output_type": "stream",
          "name": "stdout",
          "text": [
            "[89, 61, 54, 34, 12]\n"
          ]
        }
      ]
    },
    {
      "cell_type": "code",
      "source": [
        "''' list.reverse() method '''\n",
        "\n",
        "num_names.reverse()\n",
        "print(num_names)"
      ],
      "metadata": {
        "colab": {
          "base_uri": "https://localhost:8080/"
        },
        "id": "TZExnmmRRTxV",
        "outputId": "fbbe9a04-c115-412d-d256-65a5f5e6ae3f"
      },
      "execution_count": 11,
      "outputs": [
        {
          "output_type": "stream",
          "name": "stdout",
          "text": [
            "[12, 34, 54, 61, 89]\n"
          ]
        }
      ]
    },
    {
      "cell_type": "code",
      "source": [
        "''' list.insert(idx,el) method '''\n",
        "\n",
        "num_names.insert(1 , 42)\n",
        "print(num_names)"
      ],
      "metadata": {
        "colab": {
          "base_uri": "https://localhost:8080/"
        },
        "id": "MED-QYcBSMS6",
        "outputId": "a6921856-c2de-40b4-fa37-b3d140554a63"
      },
      "execution_count": 12,
      "outputs": [
        {
          "output_type": "stream",
          "name": "stdout",
          "text": [
            "[12, 42, 34, 54, 61, 89]\n"
          ]
        }
      ]
    },
    {
      "cell_type": "code",
      "source": [
        "''' list.remove() method '''\n",
        "\n",
        "num = [2, 1, 3, 4, 1]\n",
        "num.remove(1)\n",
        "print(num)"
      ],
      "metadata": {
        "colab": {
          "base_uri": "https://localhost:8080/"
        },
        "id": "4f02Eo5tVbF4",
        "outputId": "0f559d7b-84d5-47e0-9ea6-63872c049bba"
      },
      "execution_count": 21,
      "outputs": [
        {
          "output_type": "stream",
          "name": "stdout",
          "text": [
            "[2, 3, 4, 1]\n"
          ]
        }
      ]
    },
    {
      "cell_type": "code",
      "source": [
        "'''list.pop() method'''\n",
        "\n",
        "num1 = [7, 2, 5, 8, 4]\n",
        "num1.pop(1)\n",
        "print(num1)"
      ],
      "metadata": {
        "colab": {
          "base_uri": "https://localhost:8080/"
        },
        "id": "vCAX-kM8WV3L",
        "outputId": "894e0ec6-8d71-4ff3-a412-1ad920d4dd4d"
      },
      "execution_count": 23,
      "outputs": [
        {
          "output_type": "stream",
          "name": "stdout",
          "text": [
            "[7, 5, 8, 4]\n"
          ]
        }
      ]
    }
  ]
}