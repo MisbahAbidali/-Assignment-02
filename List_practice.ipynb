{
  "nbformat": 4,
  "nbformat_minor": 0,
  "metadata": {
    "colab": {
      "provenance": [],
      "authorship_tag": "ABX9TyPeoGurn+w1jSp4cESDtciI",
      "include_colab_link": true
    },
    "kernelspec": {
      "name": "python3",
      "display_name": "Python 3"
    },
    "language_info": {
      "name": "python"
    }
  },
  "cells": [
    {
      "cell_type": "markdown",
      "metadata": {
        "id": "view-in-github",
        "colab_type": "text"
      },
      "source": [
        "<a href=\"https://colab.research.google.com/github/MisbahAbidali/-Assignment-02/blob/main/List_practice.ipynb\" target=\"_parent\"><img src=\"https://colab.research.google.com/assets/colab-badge.svg\" alt=\"Open In Colab\"/></a>"
      ]
    },
    {
      "cell_type": "code",
      "execution_count": null,
      "metadata": {
        "id": "tan4acwHGMSb"
      },
      "outputs": [],
      "source": []
    },
    {
      "cell_type": "code",
      "source": [
        "'''List in Python'''\n",
        "priceOfBooks = [200, 150, 80, 170, 340]\n",
        "print(priceOfBooks)"
      ],
      "metadata": {
        "colab": {
          "base_uri": "https://localhost:8080/"
        },
        "id": "L-gwGu1HGjEV",
        "outputId": "e12f3acf-6e39-4cbe-e46a-6b3924c709ef"
      },
      "execution_count": 1,
      "outputs": [
        {
          "output_type": "stream",
          "name": "stdout",
          "text": [
            "[200, 150, 80, 170, 340]\n"
          ]
        }
      ]
    },
    {
      "cell_type": "code",
      "source": [
        "print(type(priceOfBooks))"
      ],
      "metadata": {
        "colab": {
          "base_uri": "https://localhost:8080/"
        },
        "id": "_T65Ak3jHeb0",
        "outputId": "5f952a72-11a2-4c17-9b1c-019e7ce1034a"
      },
      "execution_count": 2,
      "outputs": [
        {
          "output_type": "stream",
          "name": "stdout",
          "text": [
            "<class 'list'>\n"
          ]
        }
      ]
    },
    {
      "cell_type": "code",
      "source": [
        "print(type(priceOfBooks),\"price of 1st book =\",priceOfBooks[0])"
      ],
      "metadata": {
        "colab": {
          "base_uri": "https://localhost:8080/"
        },
        "id": "rFfnxh-wIpFQ",
        "outputId": "d2a532e5-2087-45b4-dded-8aca95c156ba"
      },
      "execution_count": 4,
      "outputs": [
        {
          "output_type": "stream",
          "name": "stdout",
          "text": [
            "<class 'list'> price of 1st book = 200\n"
          ]
        }
      ]
    },
    {
      "cell_type": "code",
      "source": [
        "print(\"price of 2nd book =\",priceOfBooks[1])"
      ],
      "metadata": {
        "colab": {
          "base_uri": "https://localhost:8080/"
        },
        "id": "uCU-63-hJY2e",
        "outputId": "bc46704d-70e3-437d-be46-56a6e06fbf53"
      },
      "execution_count": 5,
      "outputs": [
        {
          "output_type": "stream",
          "name": "stdout",
          "text": [
            "price of 2nd book = 150\n"
          ]
        }
      ]
    },
    {
      "cell_type": "code",
      "source": [
        "studentData = [\"Misbah\", 94.86, 18, \"sketching\"]\n",
        "print(type(studentData),\"studentData =\", studentData)"
      ],
      "metadata": {
        "colab": {
          "base_uri": "https://localhost:8080/"
        },
        "id": "QWd1phIrLXsY",
        "outputId": "f880858a-1282-4cdf-914e-7ec39b185663"
      },
      "execution_count": 7,
      "outputs": [
        {
          "output_type": "stream",
          "name": "stdout",
          "text": [
            "<class 'list'> studentData = ['Misbah', 94.86, 18, 'sketching']\n"
          ]
        }
      ]
    },
    {
      "cell_type": "code",
      "source": [
        "print(studentData[2])\n",
        "studentData[2] = 19"
      ],
      "metadata": {
        "colab": {
          "base_uri": "https://localhost:8080/"
        },
        "id": "Tkef2qhhMoid",
        "outputId": "303e7bd2-c719-40d2-e26d-73b8773033ab"
      },
      "execution_count": 8,
      "outputs": [
        {
          "output_type": "stream",
          "name": "stdout",
          "text": [
            "18\n"
          ]
        }
      ]
    },
    {
      "cell_type": "code",
      "source": [
        "print(studentData)"
      ],
      "metadata": {
        "colab": {
          "base_uri": "https://localhost:8080/"
        },
        "id": "j2mw2StsNFBh",
        "outputId": "44505495-e466-4325-f9a3-e9264d24deda"
      },
      "execution_count": 9,
      "outputs": [
        {
          "output_type": "stream",
          "name": "stdout",
          "text": [
            "['Misbah', 94.86, 19, 'sketching']\n"
          ]
        }
      ]
    },
    {
      "cell_type": "code",
      "source": [
        "'''slicing in python '''\n",
        "num_of_students = [12, 21, 54, 34, 87]\n",
        "print(len(num_of_students))"
      ],
      "metadata": {
        "colab": {
          "base_uri": "https://localhost:8080/"
        },
        "id": "v41FLDLkN1VB",
        "outputId": "3eabd448-821c-4450-bfc9-538cf1e1084b"
      },
      "execution_count": 10,
      "outputs": [
        {
          "output_type": "stream",
          "name": "stdout",
          "text": [
            "5\n"
          ]
        }
      ]
    },
    {
      "cell_type": "code",
      "source": [
        "print(num_of_students[1:4])"
      ],
      "metadata": {
        "colab": {
          "base_uri": "https://localhost:8080/"
        },
        "id": "n_uyoBFqOePH",
        "outputId": "a217ed47-635a-42ff-888b-d45baa590e38"
      },
      "execution_count": 11,
      "outputs": [
        {
          "output_type": "stream",
          "name": "stdout",
          "text": [
            "[21, 54, 34]\n"
          ]
        }
      ]
    },
    {
      "cell_type": "code",
      "source": [
        "print(num_of_students[:4])\n",
        "'''[12, 21, 54, 34]'''\n",
        "\n",
        "print(num_of_students[0:])\n",
        "'''[21, 54, 34, 87]'''"
      ],
      "metadata": {
        "colab": {
          "base_uri": "https://localhost:8080/",
          "height": 70
        },
        "id": "cRpPR1pPO3eG",
        "outputId": "d059d278-66a6-4576-bb18-d34bbadad680"
      },
      "execution_count": 12,
      "outputs": [
        {
          "output_type": "stream",
          "name": "stdout",
          "text": [
            "[12, 21, 54, 34]\n",
            "[12, 21, 54, 34, 87]\n"
          ]
        },
        {
          "output_type": "execute_result",
          "data": {
            "text/plain": [
              "'[21, 54, 34, 87]'"
            ],
            "application/vnd.google.colaboratory.intrinsic+json": {
              "type": "string"
            }
          },
          "metadata": {},
          "execution_count": 12
        }
      ]
    },
    {
      "cell_type": "code",
      "source": [
        "print(num_of_students[-3:-1])"
      ],
      "metadata": {
        "colab": {
          "base_uri": "https://localhost:8080/"
        },
        "id": "0Qj81AiZP8Gr",
        "outputId": "abd59c09-be6e-4a72-8dd5-ddc09debd356"
      },
      "execution_count": 13,
      "outputs": [
        {
          "output_type": "stream",
          "name": "stdout",
          "text": [
            "[54, 34]\n"
          ]
        }
      ]
    }
  ]
}