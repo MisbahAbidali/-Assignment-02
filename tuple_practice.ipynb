{
  "nbformat": 4,
  "nbformat_minor": 0,
  "metadata": {
    "colab": {
      "provenance": [],
      "authorship_tag": "ABX9TyPAViJ++rvNI8wl986E55li",
      "include_colab_link": true
    },
    "kernelspec": {
      "name": "python3",
      "display_name": "Python 3"
    },
    "language_info": {
      "name": "python"
    }
  },
  "cells": [
    {
      "cell_type": "markdown",
      "metadata": {
        "id": "view-in-github",
        "colab_type": "text"
      },
      "source": [
        "<a href=\"https://colab.research.google.com/github/MisbahAbidali/-Assignment-02/blob/main/tuple_practice.ipynb\" target=\"_parent\"><img src=\"https://colab.research.google.com/assets/colab-badge.svg\" alt=\"Open In Colab\"/></a>"
      ]
    },
    {
      "cell_type": "code",
      "execution_count": null,
      "metadata": {
        "id": "uY5NCQiDXPJ9"
      },
      "outputs": [],
      "source": []
    },
    {
      "cell_type": "code",
      "source": [
        "''' Tuples in Python '''\n",
        "tup_pre = (2, 6, 1, 9, 4)\n",
        "print(type(tup_pre))\n",
        "print(tup_pre)"
      ],
      "metadata": {
        "colab": {
          "base_uri": "https://localhost:8080/"
        },
        "id": "9nKgEyRIXaYI",
        "outputId": "0025f268-40b9-4917-eeb9-aeed54ee0be6"
      },
      "execution_count": 1,
      "outputs": [
        {
          "output_type": "stream",
          "name": "stdout",
          "text": [
            "<class 'tuple'>\n",
            "(2, 6, 1, 9, 4)\n"
          ]
        }
      ]
    },
    {
      "cell_type": "code",
      "source": [
        "tup_pre1 = ()\n",
        "print(tup_pre1)\n",
        "print(type(tup_pre1))"
      ],
      "metadata": {
        "colab": {
          "base_uri": "https://localhost:8080/"
        },
        "id": "MxYOskY-Ym_j",
        "outputId": "8af117ae-523c-4366-e76f-ca6a9d830711"
      },
      "execution_count": 3,
      "outputs": [
        {
          "output_type": "stream",
          "name": "stdout",
          "text": [
            "()\n",
            "<class 'tuple'>\n"
          ]
        }
      ]
    },
    {
      "cell_type": "code",
      "source": [
        "tup_pre2 = (1,)\n",
        "print(tup_pre2)\n",
        "print(type(tup_pre2))"
      ],
      "metadata": {
        "colab": {
          "base_uri": "https://localhost:8080/"
        },
        "id": "ZVRpPgJgY24y",
        "outputId": "43f47853-3439-4629-9216-2e6bd2a5e325"
      },
      "execution_count": 4,
      "outputs": [
        {
          "output_type": "stream",
          "name": "stdout",
          "text": [
            "(1,)\n",
            "<class 'tuple'>\n"
          ]
        }
      ]
    },
    {
      "cell_type": "code",
      "source": [
        "tup1 = (\"Hello\",)\n",
        "print(tup1)\n",
        "print(type(tup1))"
      ],
      "metadata": {
        "colab": {
          "base_uri": "https://localhost:8080/"
        },
        "id": "xqjOVUdaZHEa",
        "outputId": "c79be944-2b7a-454a-9ccb-84769dd5e859"
      },
      "execution_count": 5,
      "outputs": [
        {
          "output_type": "stream",
          "name": "stdout",
          "text": [
            "('Hello',)\n",
            "<class 'tuple'>\n"
          ]
        }
      ]
    },
    {
      "cell_type": "code",
      "source": [
        "tup2 = (\"Red\", \"Green\", \"Blue\")\n",
        "print(tup2)\n",
        "print(type(tup2))"
      ],
      "metadata": {
        "colab": {
          "base_uri": "https://localhost:8080/"
        },
        "id": "ScQx5V-QZlbb",
        "outputId": "a3839ac9-acef-4bb5-ed08-c16484615ec2"
      },
      "execution_count": 6,
      "outputs": [
        {
          "output_type": "stream",
          "name": "stdout",
          "text": [
            "('Red', 'Green', 'Blue')\n",
            "<class 'tuple'>\n"
          ]
        }
      ]
    },
    {
      "cell_type": "code",
      "source": [
        "''' tup.index() method '''\n",
        "countries = (18, 26, 23, 45,)\n",
        "print(countries.index(26))\n",
        "print(type(countries))"
      ],
      "metadata": {
        "colab": {
          "base_uri": "https://localhost:8080/"
        },
        "id": "nP5FaWvpaCbR",
        "outputId": "a1582e0f-63e4-4797-e4a0-4be78eb99254"
      },
      "execution_count": 12,
      "outputs": [
        {
          "output_type": "stream",
          "name": "stdout",
          "text": [
            "1\n",
            "<class 'tuple'>\n"
          ]
        }
      ]
    },
    {
      "cell_type": "code",
      "source": [
        "''' tup.count() method '''\n",
        "cities = (\"Karachi\", \"Larkana\", \"Hyderabad\", \"Karachi\", \"Sukker\",)\n",
        "print(cities.count(\"Karachi\"))\n",
        "print(type(cities))"
      ],
      "metadata": {
        "colab": {
          "base_uri": "https://localhost:8080/"
        },
        "id": "a2FgP-qIcJC8",
        "outputId": "9338fcdc-7b33-4bc4-8081-1fe7ceb3b164"
      },
      "execution_count": 13,
      "outputs": [
        {
          "output_type": "stream",
          "name": "stdout",
          "text": [
            "2\n",
            "<class 'tuple'>\n"
          ]
        }
      ]
    },
    {
      "cell_type": "code",
      "source": [
        "''' Practice Quetion '''\n",
        "'''WAP to ask the user to enter names of their 3 favourite movies & store them in a list'''\n",
        "\n",
        "movies = []\n",
        "mov1 = (input(\"enter 1st movie: \"))\n",
        "mov2 = (input(\"enter 2nd movie: \"))\n",
        "mov3 = (input(\"enter 3rd movie: \"))\n",
        "\n",
        "movies.append(mov1)\n",
        "movies.append(mov2)\n",
        "movies.append(mov3)\n",
        "print(movies)\n",
        "print(type(movies))"
      ],
      "metadata": {
        "colab": {
          "base_uri": "https://localhost:8080/"
        },
        "id": "TfpetanvdCUy",
        "outputId": "e6d3aa5e-8c40-4710-e586-e81a1ccb6d59"
      },
      "execution_count": 15,
      "outputs": [
        {
          "output_type": "stream",
          "name": "stdout",
          "text": [
            "enter 1st movie: shutter island\n",
            "enter 2nd movie: lucy\n",
            "enter 3rd movie: primer\n",
            "['shutter island', 'lucy', 'primer']\n",
            "<class 'list'>\n"
          ]
        }
      ]
    }
  ]
}