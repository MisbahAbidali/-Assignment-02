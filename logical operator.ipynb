{
  "nbformat": 4,
  "nbformat_minor": 0,
  "metadata": {
    "colab": {
      "provenance": [],
      "authorship_tag": "ABX9TyPNTcwi7WaFx10EPTVZ+Oxh",
      "include_colab_link": true
    },
    "kernelspec": {
      "name": "python3",
      "display_name": "Python 3"
    },
    "language_info": {
      "name": "python"
    }
  },
  "cells": [
    {
      "cell_type": "markdown",
      "metadata": {
        "id": "view-in-github",
        "colab_type": "text"
      },
      "source": [
        "<a href=\"https://colab.research.google.com/github/MisbahAbidali/-Assignment-02/blob/main/logical%20operator.ipynb\" target=\"_parent\"><img src=\"https://colab.research.google.com/assets/colab-badge.svg\" alt=\"Open In Colab\"/></a>"
      ]
    },
    {
      "cell_type": "code",
      "execution_count": 6,
      "metadata": {
        "colab": {
          "base_uri": "https://localhost:8080/"
        },
        "id": "yFpxyblywGjF",
        "outputId": "975c3917-b4bf-4857-d092-a5c5b581affc"
      },
      "outputs": [
        {
          "output_type": "stream",
          "name": "stdout",
          "text": [
            "condition is true\n"
          ]
        }
      ],
      "source": [
        "''' Logical Operators '''\n",
        "\n",
        "''' and '''\n",
        "a = 25\n",
        "b = 8\n",
        "\n",
        "if a > 24 and b > 7:\n",
        "  print(\"condition is true\")\n",
        "\n",
        "else:\n",
        "   print(\"condition is false\")"
      ]
    },
    {
      "cell_type": "code",
      "source": [
        "''' or '''\n",
        "my_name1 = \"Misbah\"\n",
        "my_name2 = \"Bisma\"\n",
        "\n",
        "misbah = 10\n",
        "bisma = 14\n",
        "\n",
        "if bisma == 15 or misbah > 9:\n",
        "  print (\"Misbah is true\")"
      ],
      "metadata": {
        "colab": {
          "base_uri": "https://localhost:8080/"
        },
        "id": "AioGBr_5xRJi",
        "outputId": "7644a3d8-f832-4eda-9de2-840308d0a710"
      },
      "execution_count": 7,
      "outputs": [
        {
          "output_type": "stream",
          "name": "stdout",
          "text": [
            "Misbah is true\n"
          ]
        }
      ]
    },
    {
      "cell_type": "code",
      "source": [
        "''' not '''\n",
        "a = False\n",
        "if not a:\n",
        "  print (\"ye sahi he?\")"
      ],
      "metadata": {
        "colab": {
          "base_uri": "https://localhost:8080/"
        },
        "id": "t3RujvZXyivn",
        "outputId": "b610aec3-a158-443b-c112-85c232f68f2b"
      },
      "execution_count": 9,
      "outputs": [
        {
          "output_type": "stream",
          "name": "stdout",
          "text": [
            "ye sahi he?\n"
          ]
        }
      ]
    },
    {
      "cell_type": "code",
      "source": [
        "b = True\n",
        "if not b:\n",
        "  print(\"kia ye sahi he?\")\n",
        "\n",
        "else:\n",
        "   print(\"nhi to ans do\")"
      ],
      "metadata": {
        "colab": {
          "base_uri": "https://localhost:8080/"
        },
        "id": "MfohT50szMts",
        "outputId": "5ca62972-0e66-4fc4-b52d-dd0be0267530"
      },
      "execution_count": 14,
      "outputs": [
        {
          "output_type": "stream",
          "name": "stdout",
          "text": [
            "nhi to ans do\n"
          ]
        }
      ]
    }
  ]
}